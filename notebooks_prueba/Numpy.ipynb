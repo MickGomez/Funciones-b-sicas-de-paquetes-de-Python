{
 "cells": [
  {
   "cell_type": "markdown",
   "id": "da4e1595-6b46-4b8d-a4cb-e2141dc60a73",
   "metadata": {},
   "source": [
    "# Numpy"
   ]
  },
  {
   "cell_type": "markdown",
   "id": "b13ec644-1650-4d89-af60-3310bdbd9f5d",
   "metadata": {},
   "source": [
    "Paquete para computo numérico\n",
    "Sirve para:\n",
    "* Utilizar vectores y matrices\n",
    "* Cálculos estadísticos y matemáticos"
   ]
  },
  {
   "cell_type": "markdown",
   "id": "0e4d2e08-be75-4222-b1e2-ca5466752898",
   "metadata": {},
   "source": [
    "## Bastante rápido y eficiente"
   ]
  },
  {
   "cell_type": "code",
   "execution_count": 1,
   "id": "4c65e5f1-fd52-477b-8148-93a6adb09e7d",
   "metadata": {
    "tags": []
   },
   "outputs": [],
   "source": [
    "# importar numpy\n",
    "import numpy as np"
   ]
  },
  {
   "cell_type": "code",
   "execution_count": 19,
   "id": "9b351584-1d8a-43f2-b137-a13c5baa9fec",
   "metadata": {
    "tags": []
   },
   "outputs": [
    {
     "data": {
      "text/plain": [
       "[2, 3, 5, 7, 11, 13, 17, 19, 23, 29]"
      ]
     },
     "execution_count": 19,
     "metadata": {},
     "output_type": "execute_result"
    }
   ],
   "source": [
    "# crear listas con números primos\n",
    "numeros_primos = [2,3,5,7,11,13,17,19,23,29]\n",
    "numeros_primos"
   ]
  },
  {
   "cell_type": "code",
   "execution_count": 20,
   "id": "715df96c-3d5a-4037-ab30-7691980be4c6",
   "metadata": {
    "tags": []
   },
   "outputs": [
    {
     "data": {
      "text/plain": [
       "array([ 2,  3,  5,  7, 11, 13, 17, 19, 23, 29])"
      ]
     },
     "execution_count": 20,
     "metadata": {},
     "output_type": "execute_result"
    }
   ],
   "source": [
    "# crear un array a partir de una lista\n",
    "array_primos = np.array(numeros_primos)\n",
    "array_primos"
   ]
  },
  {
   "cell_type": "code",
   "execution_count": 21,
   "id": "2bfcb7f3-e274-40d5-987a-381053e4cb2d",
   "metadata": {
    "tags": []
   },
   "outputs": [
    {
     "data": {
      "text/plain": [
       "array([0., 0., 0., 0., 0., 0., 0., 0., 0., 0.])"
      ]
     },
     "execution_count": 21,
     "metadata": {},
     "output_type": "execute_result"
    }
   ],
   "source": [
    "# crear arrays con cero o inicializar un arreglo de numpy\n",
    "array_zeros = np.zeros(10)\n",
    "array_zeros"
   ]
  },
  {
   "cell_type": "code",
   "execution_count": 22,
   "id": "eb5bb3cc-62ae-45ee-8edb-9afd296747b6",
   "metadata": {
    "tags": []
   },
   "outputs": [
    {
     "data": {
      "text/plain": [
       "array([0, 1, 2, 3, 4, 5, 6, 7, 8, 9])"
      ]
     },
     "execution_count": 22,
     "metadata": {},
     "output_type": "execute_result"
    }
   ],
   "source": [
    "# crear arrays con ceros\n",
    "array_numeros = np.arange(10)\n",
    "array_numeros"
   ]
  },
  {
   "cell_type": "code",
   "execution_count": 23,
   "id": "a606cacf-1265-40b9-9550-ad84b6212577",
   "metadata": {
    "tags": []
   },
   "outputs": [
    {
     "data": {
      "text/plain": [
       "array([ 0,  2,  4,  6,  8, 10, 12, 14, 16, 18])"
      ]
     },
     "execution_count": 23,
     "metadata": {},
     "output_type": "execute_result"
    }
   ],
   "source": [
    "# array con numeros sucesivos\n",
    "array_pares = np.arange(0,20,2)\n",
    "# empieza en 0, termina en 20, con paso de 2\n",
    "array_pares"
   ]
  },
  {
   "cell_type": "code",
   "execution_count": 24,
   "id": "06f1c5dc-150a-42da-8b29-4ae290853e90",
   "metadata": {
    "tags": []
   },
   "outputs": [
    {
     "data": {
      "text/plain": [
       "array([[ 0,  2,  4,  6,  8],\n",
       "       [10, 12, 14, 16, 18]])"
      ]
     },
     "execution_count": 24,
     "metadata": {},
     "output_type": "execute_result"
    }
   ],
   "source": [
    "# haciendo un reshape para 2 dimensiones\n",
    "array_pares.reshape(2,5)\n",
    "# arreglo de 2 filas y 5 columnas"
   ]
  },
  {
   "cell_type": "markdown",
   "id": "849344b7-4845-44dc-bd0e-f2303ae73d44",
   "metadata": {},
   "source": [
    "# Operaciones Aritméticas"
   ]
  },
  {
   "cell_type": "code",
   "execution_count": 25,
   "id": "cfbf5d1b-1e00-48e5-bc5e-4b991637f407",
   "metadata": {
    "tags": []
   },
   "outputs": [
    {
     "data": {
      "text/plain": [
       "array([ 1,  3,  5,  7,  9, 11, 13, 15, 17, 19])"
      ]
     },
     "execution_count": 25,
     "metadata": {},
     "output_type": "execute_result"
    }
   ],
   "source": [
    "# suponiendo para obtener impares\n",
    "array_impares = array_pares + 1\n",
    "array_impares"
   ]
  },
  {
   "cell_type": "code",
   "execution_count": 26,
   "id": "dfba2c00-9bab-4d4f-84f6-4a00cbf28daf",
   "metadata": {
    "tags": []
   },
   "outputs": [
    {
     "data": {
      "text/plain": [
       "array([ 5, 15, 25, 35, 45, 55, 65, 75, 85, 95])"
      ]
     },
     "execution_count": 26,
     "metadata": {},
     "output_type": "execute_result"
    }
   ],
   "source": [
    "# multiplicando por 5\n",
    "array_impares*5"
   ]
  },
  {
   "cell_type": "code",
   "execution_count": 27,
   "id": "fda1d8bc-78b1-4bdf-b0a6-476d0217c36e",
   "metadata": {
    "tags": []
   },
   "outputs": [
    {
     "data": {
      "text/plain": [
       "array([1, 1, 1, 1, 1, 1, 1, 1, 1, 1])"
      ]
     },
     "execution_count": 27,
     "metadata": {},
     "output_type": "execute_result"
    }
   ],
   "source": [
    "# restando arreglos\n",
    "array_impares - array_pares"
   ]
  },
  {
   "cell_type": "code",
   "execution_count": 28,
   "id": "7a781252-0152-45ad-b427-207280262364",
   "metadata": {
    "tags": []
   },
   "outputs": [
    {
     "data": {
      "text/plain": [
       "array([0.        , 0.66666667, 0.8       , 0.85714286, 0.88888889,\n",
       "       0.90909091, 0.92307692, 0.93333333, 0.94117647, 0.94736842])"
      ]
     },
     "execution_count": 28,
     "metadata": {},
     "output_type": "execute_result"
    }
   ],
   "source": [
    "# division\n",
    "array_pares / array_impares"
   ]
  },
  {
   "cell_type": "markdown",
   "id": "2723b5c2-0caf-4709-95ae-85fb16707092",
   "metadata": {},
   "source": [
    "## Metodos asociados a la estadistica"
   ]
  },
  {
   "cell_type": "code",
   "execution_count": 29,
   "id": "aa247255-9e68-4b6a-88c8-17f9df0c0e74",
   "metadata": {
    "tags": []
   },
   "outputs": [
    {
     "data": {
      "text/plain": [
       "129"
      ]
     },
     "execution_count": 29,
     "metadata": {},
     "output_type": "execute_result"
    }
   ],
   "source": [
    "# suma\n",
    "array_primos.sum()"
   ]
  },
  {
   "cell_type": "code",
   "execution_count": 30,
   "id": "057016e0-f20b-45f7-88f3-77863525ceec",
   "metadata": {
    "tags": []
   },
   "outputs": [
    {
     "data": {
      "text/plain": [
       "12.9"
      ]
     },
     "execution_count": 30,
     "metadata": {},
     "output_type": "execute_result"
    }
   ],
   "source": [
    "# promedio\n",
    "array_primos.mean()"
   ]
  },
  {
   "cell_type": "code",
   "execution_count": 31,
   "id": "b732a572-2831-422c-8e95-85c75242a64c",
   "metadata": {
    "tags": []
   },
   "outputs": [
    {
     "data": {
      "text/plain": [
       "73.28999999999999"
      ]
     },
     "execution_count": 31,
     "metadata": {},
     "output_type": "execute_result"
    }
   ],
   "source": [
    "# varianza\n",
    "array_primos.var()"
   ]
  },
  {
   "cell_type": "code",
   "execution_count": 33,
   "id": "8ce8c943-d660-4c14-bd96-aac378273e64",
   "metadata": {
    "tags": []
   },
   "outputs": [
    {
     "data": {
      "text/plain": [
       "array([ 55,   0, 144,   1,  21,  89,   5,   8,  13,   1,  34,   3,   2])"
      ]
     },
     "execution_count": 33,
     "metadata": {},
     "output_type": "execute_result"
    }
   ],
   "source": [
    "# ordenar un arreglo de numpy\n",
    "array_fibonacci = np.array([55,0,144,1,21,89,5,8,13,1,34,3,2])\n",
    "array_fibonacci"
   ]
  },
  {
   "cell_type": "code",
   "execution_count": 34,
   "id": "9e13b18e-883a-4351-a403-0ca23ffd8946",
   "metadata": {
    "tags": []
   },
   "outputs": [
    {
     "data": {
      "text/plain": [
       "array([  0,   1,   1,   2,   3,   5,   8,  13,  21,  34,  55,  89, 144])"
      ]
     },
     "execution_count": 34,
     "metadata": {},
     "output_type": "execute_result"
    }
   ],
   "source": [
    "# orden ascendente: de menor a mayor\n",
    "np.sort(array_fibonacci)"
   ]
  },
  {
   "cell_type": "code",
   "execution_count": 35,
   "id": "0352dd5b-554b-475b-b0c0-c11d01a943fb",
   "metadata": {
    "tags": []
   },
   "outputs": [
    {
     "data": {
      "text/plain": [
       "array([144,  89,  55,  34,  21,  13,   8,   5,   3,   2,   1,   1,   0])"
      ]
     },
     "execution_count": 35,
     "metadata": {},
     "output_type": "execute_result"
    }
   ],
   "source": [
    "# orden descendente: de mayor a menor \n",
    "-np.sort(-array_fibonacci)"
   ]
  },
  {
   "cell_type": "markdown",
   "id": "1d5da5cf-15a3-40fd-a075-c2491b782fc8",
   "metadata": {},
   "source": [
    "## Seleccionar elementos"
   ]
  },
  {
   "cell_type": "code",
   "execution_count": 36,
   "id": "093dacc6-9b86-4e49-b3fd-4f636b8934c7",
   "metadata": {
    "tags": []
   },
   "outputs": [
    {
     "data": {
      "text/plain": [
       "array([[ 0,  2,  4,  6,  8],\n",
       "       [10, 12, 14, 16, 18]])"
      ]
     },
     "execution_count": 36,
     "metadata": {},
     "output_type": "execute_result"
    }
   ],
   "source": [
    "# seleccionar un elemento\n",
    "A = np.arange(0,20,2).reshape(2,5)\n",
    "A"
   ]
  },
  {
   "cell_type": "code",
   "execution_count": 37,
   "id": "61911314-7629-427c-ac4d-2b96f02ded14",
   "metadata": {
    "tags": []
   },
   "outputs": [
    {
     "data": {
      "text/plain": [
       "0"
      ]
     },
     "execution_count": 37,
     "metadata": {},
     "output_type": "execute_result"
    }
   ],
   "source": [
    "# seleccionar el primer elemento\n",
    "A[0,0]"
   ]
  },
  {
   "cell_type": "code",
   "execution_count": 38,
   "id": "790408a2-f855-4e38-8b8d-4d83dfd682ff",
   "metadata": {
    "tags": []
   },
   "outputs": [
    {
     "data": {
      "text/plain": [
       "16"
      ]
     },
     "execution_count": 38,
     "metadata": {},
     "output_type": "execute_result"
    }
   ],
   "source": [
    "# seleccionar algun otro elemento\n",
    "A[1,3]"
   ]
  },
  {
   "cell_type": "markdown",
   "id": "1333d64f-08db-411c-971a-b811bed630e4",
   "metadata": {},
   "source": [
    "seleccionar varios elementos\n"
   ]
  },
  {
   "cell_type": "code",
   "execution_count": 39,
   "id": "3f71d741-aa35-400b-b6ab-b0246c66895a",
   "metadata": {
    "tags": []
   },
   "outputs": [
    {
     "data": {
      "text/plain": [
       "array([10, 12, 14, 16, 18])"
      ]
     },
     "execution_count": 39,
     "metadata": {},
     "output_type": "execute_result"
    }
   ],
   "source": [
    "# seleccionar por filas\n",
    "A[1,:]"
   ]
  },
  {
   "cell_type": "code",
   "execution_count": 40,
   "id": "9ba64b0b-a4e7-4328-92ec-481daf8162da",
   "metadata": {
    "tags": []
   },
   "outputs": [
    {
     "data": {
      "text/plain": [
       "array([ 6, 16])"
      ]
     },
     "execution_count": 40,
     "metadata": {},
     "output_type": "execute_result"
    }
   ],
   "source": [
    "# seleccionar por columnas\n",
    "A[:,3]"
   ]
  },
  {
   "cell_type": "code",
   "execution_count": 41,
   "id": "b8d64547-f27b-4a27-a186-8985feb9e4c9",
   "metadata": {
    "tags": []
   },
   "outputs": [
    {
     "data": {
      "text/plain": [
       "array([ 55,   0, 144,   1,  21,  89,   5,   8,  13,   1,  34,   3,   2])"
      ]
     },
     "execution_count": 41,
     "metadata": {},
     "output_type": "execute_result"
    }
   ],
   "source": [
    "# Utilizar filter\n",
    "array_fibonacci"
   ]
  },
  {
   "cell_type": "code",
   "execution_count": 43,
   "id": "6c0ba549-bd5e-4389-8363-44423ca91845",
   "metadata": {
    "tags": []
   },
   "outputs": [
    {
     "data": {
      "text/plain": [
       "array([False,  True, False,  True, False, False,  True,  True,  True,\n",
       "        True, False,  True,  True])"
      ]
     },
     "execution_count": 43,
     "metadata": {},
     "output_type": "execute_result"
    }
   ],
   "source": [
    "# condicion -> para valores menores a 20\n",
    "array_fibonacci < 20"
   ]
  },
  {
   "cell_type": "code",
   "execution_count": 44,
   "id": "e0e406a1-9a18-426f-883c-9cbc570430fd",
   "metadata": {
    "tags": []
   },
   "outputs": [
    {
     "data": {
      "text/plain": [
       "array([ 0,  1,  5,  8, 13,  1,  3,  2])"
      ]
     },
     "execution_count": 44,
     "metadata": {},
     "output_type": "execute_result"
    }
   ],
   "source": [
    "# filtrar para valores menores a 20\n",
    "array_fibonacci[array_fibonacci<20]"
   ]
  },
  {
   "cell_type": "code",
   "execution_count": null,
   "id": "33548473-560a-441b-9765-6d18f3378b49",
   "metadata": {},
   "outputs": [],
   "source": []
  }
 ],
 "metadata": {
  "kernelspec": {
   "display_name": "Python 3 (ipykernel)",
   "language": "python",
   "name": "python3"
  },
  "language_info": {
   "codemirror_mode": {
    "name": "ipython",
    "version": 3
   },
   "file_extension": ".py",
   "mimetype": "text/x-python",
   "name": "python",
   "nbconvert_exporter": "python",
   "pygments_lexer": "ipython3",
   "version": "3.11.5"
  }
 },
 "nbformat": 4,
 "nbformat_minor": 5
}
