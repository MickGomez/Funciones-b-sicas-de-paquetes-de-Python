{
 "cells": [
  {
   "cell_type": "markdown",
   "id": "5555ff84-ed8e-4ed0-acc9-85fbd486dd30",
   "metadata": {},
   "source": [
    "# Listas"
   ]
  },
  {
   "cell_type": "markdown",
   "id": "4f9b6aa6-0b6b-4def-b1f4-f7afea491592",
   "metadata": {},
   "source": [
    "## Creando listas con diferentes tipos de datos"
   ]
  },
  {
   "cell_type": "code",
   "execution_count": 1,
   "id": "05f2b8ae-d10e-46d6-a7a8-f3e64d555be8",
   "metadata": {
    "tags": []
   },
   "outputs": [],
   "source": [
    "# Estructura : | nombre (string) | millones de usuarios (int) | pertenece a facebook(bool)"
   ]
  },
  {
   "cell_type": "code",
   "execution_count": 2,
   "id": "68c242e2-83a8-4447-b326-4e318a78e301",
   "metadata": {
    "tags": []
   },
   "outputs": [],
   "source": [
    "fb = ['Facebook', 2449, True]\n",
    "tw = ['Twitter', 339, False]\n",
    "ig = ['Instagram',1000, True]\n",
    "yt = ['Youtube',2000,False]\n",
    "lk = ['LinkedIn',663,False]\n",
    "wa = ['Whatsapp',1600,True]"
   ]
  },
  {
   "cell_type": "markdown",
   "id": "5db0998d-d4f0-4dc3-b78e-175021599a15",
   "metadata": {},
   "source": [
    "## Seleccionar elementos de las listas"
   ]
  },
  {
   "cell_type": "code",
   "execution_count": 4,
   "id": "36e5dd2c-2657-483d-aa86-be83250bfc93",
   "metadata": {
    "tags": []
   },
   "outputs": [],
   "source": [
    "nombres_rrss = ['Facebook','Twitter','Instagram','Youtube','LinkedIn','Whatsapp']"
   ]
  },
  {
   "cell_type": "code",
   "execution_count": 5,
   "id": "3f2545b9-9826-4c3b-bb61-383186974f88",
   "metadata": {
    "tags": []
   },
   "outputs": [],
   "source": [
    "# En python el conteo empieza en cero"
   ]
  },
  {
   "cell_type": "code",
   "execution_count": 6,
   "id": "e19eb772-5af8-4803-ad6c-777103e122b9",
   "metadata": {
    "tags": []
   },
   "outputs": [
    {
     "data": {
      "text/plain": [
       "'Facebook'"
      ]
     },
     "execution_count": 6,
     "metadata": {},
     "output_type": "execute_result"
    }
   ],
   "source": [
    "nombres_rrss[0]"
   ]
  },
  {
   "cell_type": "code",
   "execution_count": 7,
   "id": "b4d27d10-4864-48fe-bcf0-e3dc21cc03b4",
   "metadata": {
    "tags": []
   },
   "outputs": [
    {
     "data": {
      "text/plain": [
       "['Facebook', 'Twitter']"
      ]
     },
     "execution_count": 7,
     "metadata": {},
     "output_type": "execute_result"
    }
   ],
   "source": [
    "# Seleccionando dos elementos\n",
    "[nombres_rrss[0],nombres_rrss[1]]"
   ]
  },
  {
   "cell_type": "code",
   "execution_count": 10,
   "id": "49a052bd-66bd-4ad9-9f0a-7b78291d3cd2",
   "metadata": {
    "tags": []
   },
   "outputs": [],
   "source": [
    "# Utilizando dos puntos ( : ) para seleccionar varios elementos de seguido\n",
    "# Primer valor -> Incluyente,     Segundo valor -> Excluyente"
   ]
  },
  {
   "cell_type": "code",
   "execution_count": 9,
   "id": "92f10601-8600-4538-9329-bb2970865700",
   "metadata": {
    "tags": []
   },
   "outputs": [
    {
     "data": {
      "text/plain": [
       "['Twitter', 'Instagram', 'Youtube']"
      ]
     },
     "execution_count": 9,
     "metadata": {},
     "output_type": "execute_result"
    }
   ],
   "source": [
    "nombres_rrss[1:4]"
   ]
  },
  {
   "cell_type": "code",
   "execution_count": 11,
   "id": "3052455b-5427-4d21-a531-93ba34c71aa2",
   "metadata": {
    "tags": []
   },
   "outputs": [],
   "source": [
    "# Seleccionando desde atrás"
   ]
  },
  {
   "cell_type": "code",
   "execution_count": 12,
   "id": "c931e90d-9dcf-4553-8616-1059c1cef6be",
   "metadata": {
    "tags": []
   },
   "outputs": [
    {
     "data": {
      "text/plain": [
       "'Whatsapp'"
      ]
     },
     "execution_count": 12,
     "metadata": {},
     "output_type": "execute_result"
    }
   ],
   "source": [
    "nombres_rrss[-1]"
   ]
  },
  {
   "cell_type": "markdown",
   "id": "c0c4223b-0d54-43d0-93bb-ea94a6a49e1b",
   "metadata": {},
   "source": [
    "## Agregar y eliminar elementos de una lista"
   ]
  },
  {
   "cell_type": "code",
   "execution_count": 13,
   "id": "3ab5b1a3-64f3-48c8-a9bc-2ceca83dd43d",
   "metadata": {
    "tags": []
   },
   "outputs": [
    {
     "data": {
      "text/plain": [
       "['Facebook', 2449, True]"
      ]
     },
     "execution_count": 13,
     "metadata": {},
     "output_type": "execute_result"
    }
   ],
   "source": [
    "fb"
   ]
  },
  {
   "cell_type": "code",
   "execution_count": 14,
   "id": "f00f2d6f-31a7-4b86-b046-8f7cc40d7390",
   "metadata": {
    "tags": []
   },
   "outputs": [],
   "source": [
    "# Suponiendo para agregar el año de la creación de la red social"
   ]
  },
  {
   "cell_type": "code",
   "execution_count": 15,
   "id": "65872475-21ee-47d8-855f-b0ae93597cce",
   "metadata": {
    "tags": []
   },
   "outputs": [],
   "source": [
    "fb.append(2006)"
   ]
  },
  {
   "cell_type": "code",
   "execution_count": 16,
   "id": "7e1e7ce4-02b6-4f54-bf46-25f9069b4fc7",
   "metadata": {
    "tags": []
   },
   "outputs": [
    {
     "data": {
      "text/plain": [
       "['Facebook', 2449, True, 2006]"
      ]
     },
     "execution_count": 16,
     "metadata": {},
     "output_type": "execute_result"
    }
   ],
   "source": [
    "fb"
   ]
  },
  {
   "cell_type": "code",
   "execution_count": 17,
   "id": "78ebee6b-d039-4085-9262-17cdd54d5ba8",
   "metadata": {
    "tags": []
   },
   "outputs": [],
   "source": [
    "tw.append(2006)\n",
    "ig.append(2010)\n",
    "yt.append(2005)\n",
    "lk.append(2003)\n",
    "wa.append(2009)"
   ]
  },
  {
   "cell_type": "code",
   "execution_count": 18,
   "id": "569efaa6-a8b3-452b-a997-fe7f0bb6fd73",
   "metadata": {
    "tags": []
   },
   "outputs": [],
   "source": [
    "# Para eliminar elementos de una lista"
   ]
  },
  {
   "cell_type": "code",
   "execution_count": 19,
   "id": "b84007b1-bc4a-4e08-bb43-0c58f50d431b",
   "metadata": {
    "tags": []
   },
   "outputs": [],
   "source": [
    "fb.append('Error 404')"
   ]
  },
  {
   "cell_type": "code",
   "execution_count": 20,
   "id": "29efe035-136d-4603-82ee-d9606274eee8",
   "metadata": {
    "tags": []
   },
   "outputs": [
    {
     "data": {
      "text/plain": [
       "['Facebook', 2449, True, 2006, 'Error 404']"
      ]
     },
     "execution_count": 20,
     "metadata": {},
     "output_type": "execute_result"
    }
   ],
   "source": [
    "fb"
   ]
  },
  {
   "cell_type": "code",
   "execution_count": 21,
   "id": "b1c7d30e-08b6-4b40-8105-d3a0bc6ca457",
   "metadata": {
    "tags": []
   },
   "outputs": [],
   "source": [
    "fb.remove('Error 404')"
   ]
  },
  {
   "cell_type": "code",
   "execution_count": 22,
   "id": "9c0b0e89-4feb-4026-a810-5e3c62356443",
   "metadata": {
    "tags": []
   },
   "outputs": [
    {
     "data": {
      "text/plain": [
       "['Facebook', 2449, True, 2006]"
      ]
     },
     "execution_count": 22,
     "metadata": {},
     "output_type": "execute_result"
    }
   ],
   "source": [
    "fb"
   ]
  },
  {
   "cell_type": "markdown",
   "id": "d0edee1c-affb-4411-907d-691bce830dd7",
   "metadata": {},
   "source": [
    "# Como crear DataFrame de una lista"
   ]
  },
  {
   "cell_type": "markdown",
   "id": "b85c8ebf-a3bf-4451-803a-9b4ffeee4cdb",
   "metadata": {},
   "source": [
    "## Creando lista de listas"
   ]
  },
  {
   "cell_type": "code",
   "execution_count": 29,
   "id": "fc66214a-9961-4dbc-a30f-3fbbe1ff2f1d",
   "metadata": {
    "tags": []
   },
   "outputs": [],
   "source": [
    "# creando listas con todas las RRSS"
   ]
  },
  {
   "cell_type": "code",
   "execution_count": 30,
   "id": "ce63d95c-2561-41f6-bfe6-4921af912c30",
   "metadata": {
    "tags": []
   },
   "outputs": [],
   "source": [
    "lista_rrss = [fb,tw,ig,yt,lk,wa]"
   ]
  },
  {
   "cell_type": "code",
   "execution_count": 31,
   "id": "9a8c5f48-17d1-4b88-9fbe-006264c906c8",
   "metadata": {
    "tags": []
   },
   "outputs": [],
   "source": [
    "# Mostrando la lista"
   ]
  },
  {
   "cell_type": "code",
   "execution_count": 32,
   "id": "c450b4f8-f9d5-4878-9fd3-95ae8441767c",
   "metadata": {
    "tags": []
   },
   "outputs": [
    {
     "data": {
      "text/plain": [
       "[['Facebook', 2449, True, 2006],\n",
       " ['Twitter', 339, False, 2006],\n",
       " ['Instagram', 1000, True, 2010],\n",
       " ['Youtube', 2000, False, 2005],\n",
       " ['LinkedIn', 663, False, 2003],\n",
       " ['Whatsapp', 1600, True, 2009]]"
      ]
     },
     "execution_count": 32,
     "metadata": {},
     "output_type": "execute_result"
    }
   ],
   "source": [
    "lista_rrss"
   ]
  },
  {
   "cell_type": "code",
   "execution_count": 33,
   "id": "aa90f81b-2e99-4923-baf6-b7a76af35f0b",
   "metadata": {
    "tags": []
   },
   "outputs": [],
   "source": [
    "# Creando un DataFrame a partir de esto"
   ]
  },
  {
   "cell_type": "code",
   "execution_count": 35,
   "id": "d113d16e-4d88-4e8f-9dff-5828bd18586a",
   "metadata": {
    "tags": []
   },
   "outputs": [
    {
     "data": {
      "text/html": [
       "<div>\n",
       "<style scoped>\n",
       "    .dataframe tbody tr th:only-of-type {\n",
       "        vertical-align: middle;\n",
       "    }\n",
       "\n",
       "    .dataframe tbody tr th {\n",
       "        vertical-align: top;\n",
       "    }\n",
       "\n",
       "    .dataframe thead th {\n",
       "        text-align: right;\n",
       "    }\n",
       "</style>\n",
       "<table border=\"1\" class=\"dataframe\">\n",
       "  <thead>\n",
       "    <tr style=\"text-align: right;\">\n",
       "      <th></th>\n",
       "      <th>Nombre</th>\n",
       "      <th>Cantidad</th>\n",
       "      <th>es_Facebook</th>\n",
       "      <th>Año</th>\n",
       "    </tr>\n",
       "  </thead>\n",
       "  <tbody>\n",
       "    <tr>\n",
       "      <th>0</th>\n",
       "      <td>Facebook</td>\n",
       "      <td>2449</td>\n",
       "      <td>True</td>\n",
       "      <td>2006</td>\n",
       "    </tr>\n",
       "    <tr>\n",
       "      <th>1</th>\n",
       "      <td>Twitter</td>\n",
       "      <td>339</td>\n",
       "      <td>False</td>\n",
       "      <td>2006</td>\n",
       "    </tr>\n",
       "    <tr>\n",
       "      <th>2</th>\n",
       "      <td>Instagram</td>\n",
       "      <td>1000</td>\n",
       "      <td>True</td>\n",
       "      <td>2010</td>\n",
       "    </tr>\n",
       "    <tr>\n",
       "      <th>3</th>\n",
       "      <td>Youtube</td>\n",
       "      <td>2000</td>\n",
       "      <td>False</td>\n",
       "      <td>2005</td>\n",
       "    </tr>\n",
       "    <tr>\n",
       "      <th>4</th>\n",
       "      <td>LinkedIn</td>\n",
       "      <td>663</td>\n",
       "      <td>False</td>\n",
       "      <td>2003</td>\n",
       "    </tr>\n",
       "    <tr>\n",
       "      <th>5</th>\n",
       "      <td>Whatsapp</td>\n",
       "      <td>1600</td>\n",
       "      <td>True</td>\n",
       "      <td>2009</td>\n",
       "    </tr>\n",
       "  </tbody>\n",
       "</table>\n",
       "</div>"
      ],
      "text/plain": [
       "      Nombre  Cantidad  es_Facebook   Año\n",
       "0   Facebook      2449         True  2006\n",
       "1    Twitter       339        False  2006\n",
       "2  Instagram      1000         True  2010\n",
       "3    Youtube      2000        False  2005\n",
       "4   LinkedIn       663        False  2003\n",
       "5   Whatsapp      1600         True  2009"
      ]
     },
     "execution_count": 35,
     "metadata": {},
     "output_type": "execute_result"
    }
   ],
   "source": [
    "import pandas as pd\n",
    "\n",
    "pd.DataFrame(lista_rrss, columns=['Nombre','Cantidad','es_Facebook','Año'])"
   ]
  },
  {
   "cell_type": "code",
   "execution_count": null,
   "id": "290feada-b517-4745-975d-60e14f65a994",
   "metadata": {},
   "outputs": [],
   "source": []
  }
 ],
 "metadata": {
  "kernelspec": {
   "display_name": "Python 3 (ipykernel)",
   "language": "python",
   "name": "python3"
  },
  "language_info": {
   "codemirror_mode": {
    "name": "ipython",
    "version": 3
   },
   "file_extension": ".py",
   "mimetype": "text/x-python",
   "name": "python",
   "nbconvert_exporter": "python",
   "pygments_lexer": "ipython3",
   "version": "3.11.5"
  }
 },
 "nbformat": 4,
 "nbformat_minor": 5
}
