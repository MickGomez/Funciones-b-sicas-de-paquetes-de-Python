{
 "cells": [
  {
   "cell_type": "markdown",
   "id": "fb7edc5a-f450-46c1-9901-df9b0beb914f",
   "metadata": {},
   "source": [
    "# Paquetes"
   ]
  },
  {
   "cell_type": "code",
   "execution_count": 1,
   "id": "16ad7ee1-e0f4-4025-b9d7-db7b6f34e533",
   "metadata": {
    "tags": []
   },
   "outputs": [],
   "source": [
    "# Importando un paquete"
   ]
  },
  {
   "cell_type": "code",
   "execution_count": 2,
   "id": "f78a4cdc-5171-463b-ac51-ede12cfdd2f3",
   "metadata": {
    "tags": []
   },
   "outputs": [],
   "source": [
    "import numpy"
   ]
  },
  {
   "cell_type": "code",
   "execution_count": 3,
   "id": "f0cdbf66-2ed1-4b23-bf52-81e73cc530f8",
   "metadata": {
    "tags": []
   },
   "outputs": [
    {
     "data": {
      "text/plain": [
       "array([0, 1, 2, 3, 4, 5, 6, 7, 8])"
      ]
     },
     "execution_count": 3,
     "metadata": {},
     "output_type": "execute_result"
    }
   ],
   "source": [
    "numpy.arange(9)"
   ]
  },
  {
   "cell_type": "code",
   "execution_count": 6,
   "id": "32893581-be2b-444e-b183-df483a66d48b",
   "metadata": {
    "tags": []
   },
   "outputs": [],
   "source": [
    "# Importar un paquete con acronimo (reducción del nombre) "
   ]
  },
  {
   "cell_type": "code",
   "execution_count": 5,
   "id": "dffabe45-8f50-4feb-bd96-92f655118fa4",
   "metadata": {
    "tags": []
   },
   "outputs": [],
   "source": [
    "import numpy as np"
   ]
  },
  {
   "cell_type": "code",
   "execution_count": 7,
   "id": "9b843707-2598-4764-91cf-4cf5672ea406",
   "metadata": {
    "tags": []
   },
   "outputs": [],
   "source": [
    "# objeto array de numpy"
   ]
  },
  {
   "cell_type": "code",
   "execution_count": 8,
   "id": "0933458b-120d-4cc3-8bc1-35fd37ef6c18",
   "metadata": {
    "tags": []
   },
   "outputs": [
    {
     "data": {
      "text/plain": [
       "array([0, 1, 2, 3, 4, 5, 6, 7, 8])"
      ]
     },
     "execution_count": 8,
     "metadata": {},
     "output_type": "execute_result"
    }
   ],
   "source": [
    "np.arange(9)"
   ]
  },
  {
   "cell_type": "code",
   "execution_count": 9,
   "id": "280fc581-a322-44f3-973a-4cf11b713fd9",
   "metadata": {
    "tags": []
   },
   "outputs": [],
   "source": [
    "# Cargar una funcion especifica de un paquete"
   ]
  },
  {
   "cell_type": "code",
   "execution_count": 10,
   "id": "ee0351be-d97b-48df-bf61-650a54cfe66e",
   "metadata": {
    "tags": []
   },
   "outputs": [],
   "source": [
    "from numpy import arange"
   ]
  },
  {
   "cell_type": "code",
   "execution_count": 11,
   "id": "7a37190d-fde3-4019-8be9-1e10cd3191f7",
   "metadata": {
    "tags": []
   },
   "outputs": [
    {
     "data": {
      "text/plain": [
       "array([0, 1, 2, 3, 4, 5, 6, 7, 8])"
      ]
     },
     "execution_count": 11,
     "metadata": {},
     "output_type": "execute_result"
    }
   ],
   "source": [
    "arange(9)"
   ]
  },
  {
   "cell_type": "markdown",
   "id": "b914333b-5477-43f3-ac21-692bcf134268",
   "metadata": {
    "tags": []
   },
   "source": [
    "## Función = conjunto de instrucciones que regresan algo\n",
    "## Método = conjunto de instrucciones que trabajan sobre objetos"
   ]
  },
  {
   "cell_type": "code",
   "execution_count": 13,
   "id": "02567ffa-acfe-4f26-9cc6-e64d760b4c39",
   "metadata": {
    "tags": []
   },
   "outputs": [],
   "source": [
    "# Diferencias entre funciones y metodos"
   ]
  },
  {
   "cell_type": "code",
   "execution_count": 14,
   "id": "b04fa953-26d7-42a3-9273-3e110e8e17f3",
   "metadata": {
    "tags": []
   },
   "outputs": [],
   "source": [
    "A=np.arange(9)"
   ]
  },
  {
   "cell_type": "code",
   "execution_count": 16,
   "id": "ee159b56-e198-4c32-96ba-bb018a07a306",
   "metadata": {
    "tags": []
   },
   "outputs": [
    {
     "data": {
      "text/plain": [
       "array([0, 1, 2, 3, 4, 5, 6, 7, 8])"
      ]
     },
     "execution_count": 16,
     "metadata": {},
     "output_type": "execute_result"
    }
   ],
   "source": [
    "A"
   ]
  },
  {
   "cell_type": "code",
   "execution_count": 32,
   "id": "c1aea7ec-428f-4714-b4a6-3cea6c524e98",
   "metadata": {
    "tags": []
   },
   "outputs": [
    {
     "data": {
      "text/plain": [
       "numpy.ndarray"
      ]
     },
     "execution_count": 32,
     "metadata": {},
     "output_type": "execute_result"
    }
   ],
   "source": [
    "# Saber el tipo de objeto con -> type\n",
    "type(A)"
   ]
  },
  {
   "cell_type": "code",
   "execution_count": 31,
   "id": "d08d392b-26e4-4929-934e-8e524eb6273e",
   "metadata": {
    "tags": []
   },
   "outputs": [
    {
     "data": {
      "text/plain": [
       "4.0"
      ]
     },
     "execution_count": 31,
     "metadata": {},
     "output_type": "execute_result"
    }
   ],
   "source": [
    "# Calculando el promedio con una funcion de numpy -> mean\n",
    "np.mean(A)"
   ]
  },
  {
   "cell_type": "code",
   "execution_count": 30,
   "id": "4212c005-73d2-412d-b5f3-686b0f8eeb46",
   "metadata": {
    "tags": []
   },
   "outputs": [
    {
     "data": {
      "text/plain": [
       "4.0"
      ]
     },
     "execution_count": 30,
     "metadata": {},
     "output_type": "execute_result"
    }
   ],
   "source": [
    "# Calculando promedio con metodo de objeto\n",
    "A.mean()"
   ]
  },
  {
   "cell_type": "code",
   "execution_count": 24,
   "id": "419d8251-8e07-42f2-936d-d2f304f12689",
   "metadata": {
    "tags": []
   },
   "outputs": [],
   "source": [
    "# Reshape con funciones y metodos"
   ]
  },
  {
   "cell_type": "code",
   "execution_count": 28,
   "id": "8fa42dfd-0e4d-4506-a89f-7ecbc527be8d",
   "metadata": {
    "tags": []
   },
   "outputs": [
    {
     "data": {
      "text/plain": [
       "array([[0, 1, 2],\n",
       "       [3, 4, 5],\n",
       "       [6, 7, 8]])"
      ]
     },
     "execution_count": 28,
     "metadata": {},
     "output_type": "execute_result"
    }
   ],
   "source": [
    "# Transformando un arreglo con funcion de numpy\n",
    "np.reshape(A,(3,3))"
   ]
  },
  {
   "cell_type": "code",
   "execution_count": 29,
   "id": "01ce9a5e-4718-4186-95b7-726fcd5a8aba",
   "metadata": {
    "tags": []
   },
   "outputs": [
    {
     "data": {
      "text/plain": [
       "array([[0, 1, 2],\n",
       "       [3, 4, 5],\n",
       "       [6, 7, 8]])"
      ]
     },
     "execution_count": 29,
     "metadata": {},
     "output_type": "execute_result"
    }
   ],
   "source": [
    "# Transformando arreglo con metodo de objeto\n",
    "A.reshape(3,3)"
   ]
  },
  {
   "cell_type": "code",
   "execution_count": null,
   "id": "7e56ab8a-5b9c-4d69-a700-d422994f02e7",
   "metadata": {},
   "outputs": [],
   "source": []
  }
 ],
 "metadata": {
  "kernelspec": {
   "display_name": "Python 3 (ipykernel)",
   "language": "python",
   "name": "python3"
  },
  "language_info": {
   "codemirror_mode": {
    "name": "ipython",
    "version": 3
   },
   "file_extension": ".py",
   "mimetype": "text/x-python",
   "name": "python",
   "nbconvert_exporter": "python",
   "pygments_lexer": "ipython3",
   "version": "3.11.5"
  }
 },
 "nbformat": 4,
 "nbformat_minor": 5
}
